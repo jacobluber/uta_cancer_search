{
 "cells": [
  {
   "cell_type": "code",
   "execution_count": 1,
   "id": "527dac1f-8332-42c7-934f-8dd82f19ffe5",
   "metadata": {},
   "outputs": [],
   "source": [
    "import pandas as pd\n",
    "import numpy as np\n",
    "import matplotlib.pyplot as plt\n",
    "import seaborn as sns"
   ]
  },
  {
   "cell_type": "code",
   "execution_count": 2,
   "id": "bdaea907-3e0f-464c-8cdc-b1d009a5df45",
   "metadata": {},
   "outputs": [],
   "source": [
    "ratio = 0.2\n",
    "cutoff = 100\n",
    "\n",
    "rng = np.random.default_rng(0)"
   ]
  },
  {
   "cell_type": "code",
   "execution_count": 3,
   "id": "98977755-458e-4152-8534-b46000313de7",
   "metadata": {},
   "outputs": [],
   "source": [
    "# Reading metadata\n",
    "data = pd.read_csv('minimal_metadata.csv')\n",
    "\n",
    "sites = data['primary_site'].unique().tolist()\n",
    "site_counts = data.groupby('primary_site')['id'].count().to_dict()\n",
    "\n",
    "# Creating a list to store which rows to download\n",
    "download_ids = set()\n",
    "no_download_ids = set(range(len(data)))\n",
    "\n",
    "for site in sites:\n",
    "    data_site = data[data['primary_site'] == site]\n",
    "    \n",
    "    if site_counts[site] <= cutoff:\n",
    "        ids = set(data_site.index.to_list())\n",
    "    else:\n",
    "        num_download = int(np.floor(ratio * site_counts[site]))\n",
    "        random_downloads = rng.integers(low=0, high=site_counts[site], size=num_download)\n",
    "        ids = set(data_site.iloc[random_downloads].index.to_list())\n",
    "        \n",
    "    download_ids.update(ids)\n",
    "\n",
    "no_download_ids.difference_update(download_ids)\n",
    "\n",
    "download_ids = list(download_ids)\n",
    "no_download_ids = list(no_download_ids)\n",
    "\n",
    "assert len(download_ids) + len(no_download_ids) == len(data)"
   ]
  },
  {
   "cell_type": "code",
   "execution_count": 4,
   "id": "ea14c5b6-a0fd-4b84-ab91-c7bde6fd2c9d",
   "metadata": {},
   "outputs": [],
   "source": [
    "cols = ['id', 'filename', 'md5', 'size', 'state']\n",
    "download_manifest = data[cols].iloc[download_ids].copy(deep=True)\n",
    "no_download_manifest = data[cols].iloc[no_download_ids].copy(deep=True)\n",
    "\n",
    "download_manifest.to_csv('download_manifest.txt', sep='\\t', index=False)\n",
    "no_download_manifest.to_csv('no_download_manifest.txt', sep='\\t', index=False)\n",
    "\n",
    "cols = ['id', 'filename', 'md5', 'size', 'state', 'primary_site']\n",
    "download_metadata = data[cols].iloc[download_ids].copy(deep=True)\n",
    "no_download_metadata = data[cols].iloc[no_download_ids].copy(deep=True)\n",
    "\n",
    "download_metadata.to_csv('download_metadata.csv', index=False)\n",
    "no_download_metadata.to_csv('no_download_metadata.csv', index=False)"
   ]
  }
 ],
 "metadata": {
  "kernelspec": {
   "display_name": "Python 3.9.13 ('vae': conda)",
   "language": "python",
   "name": "python3"
  },
  "language_info": {
   "codemirror_mode": {
    "name": "ipython",
    "version": 3
   },
   "file_extension": ".py",
   "mimetype": "text/x-python",
   "name": "python",
   "nbconvert_exporter": "python",
   "pygments_lexer": "ipython3",
   "version": "3.9.13"
  },
  "vscode": {
   "interpreter": {
    "hash": "752f39bc0ae04be1d9b771e624752a5e5e529b162d9827bd4f656d8b8669fe99"
   }
  }
 },
 "nbformat": 4,
 "nbformat_minor": 5
}
