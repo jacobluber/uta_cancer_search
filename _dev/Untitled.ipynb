{
 "cells": [
  {
   "cell_type": "code",
   "execution_count": 1,
   "id": "d2b14ff1-387f-49a7-9ef7-7f22c0ea8972",
   "metadata": {},
   "outputs": [],
   "source": [
    "import os\n",
    "import pandas as pd"
   ]
  },
  {
   "cell_type": "code",
   "execution_count": 13,
   "id": "169e6c2c-b7c7-46f1-906a-4c935d99ec57",
   "metadata": {},
   "outputs": [],
   "source": [
    "data_dir = '/home/data/gdc/'\n",
    "meta = pd.read_csv(os.path.join(data_dir, 'metadata.csv')).iloc[0:2370]"
   ]
  },
  {
   "cell_type": "code",
   "execution_count": 14,
   "id": "2deedb45-0f73-4155-9ac4-2529ced9c2f0",
   "metadata": {},
   "outputs": [
    {
     "data": {
      "text/plain": [
       "id              10\n",
       "filename        10\n",
       "md5             10\n",
       "size            10\n",
       "state           10\n",
       "primary_site    10\n",
       "dtype: int64"
      ]
     },
     "execution_count": 14,
     "metadata": {},
     "output_type": "execute_result"
    }
   ],
   "source": [
    "meta[meta['primary_site']=='Bronchus and lung'].count()"
   ]
  },
  {
   "cell_type": "code",
   "execution_count": 5,
   "id": "35b52f55-3e46-4168-bf96-0ea50dd32530",
   "metadata": {},
   "outputs": [
    {
     "data": {
      "text/plain": [
       "['/home/data/gdc/TCGA-J2-A4AD-01Z-00-DX1.C3C3B0C6-0666-4CCF-8422-345560B237DA.svs',\n",
       " '/home/data/gdc/TCGA-91-A4BD-01A-01-TSA.93F9E15F-EAC4-4DE1-85A5-626B58BF7B99.svs',\n",
       " '/home/data/gdc/TCGA-50-6590-01A-01-TS1.bc20120d-3461-4d17-9746-275812d0fbb9.svs',\n",
       " '/home/data/gdc/TCGA-67-3773-01A-01-TS1.dc8ffdb9-6b85-41f4-817e-36bfc559e3b0.svs',\n",
       " '/home/data/gdc/TCGA-NJ-A7XG-01A-01-TSA.EC93FEC3-6CE3-47B4-9643-3C5B208129E0.svs',\n",
       " '/home/data/gdc/TCGA-91-6848-01A-01-TS1.7109b7c7-b67f-4ff7-a6f9-623fdbe317ed.svs',\n",
       " '/home/data/gdc/TCGA-91-6848-01A-01-BS1.5cbaab0b-bd1c-4f46-bc98-9a425ab08c19.svs',\n",
       " '/home/data/gdc/TCGA-91-6848-11A-01-TS1.0bb06db2-7b3e-4d0a-bb3f-6c03aa315387.svs',\n",
       " '/home/data/gdc/TCGA-86-6851-01A-01-BS1.97632bcb-defa-4e56-bbf6-e23bef7cb685.svs',\n",
       " '/home/data/gdc/TCGA-73-4677-01Z-00-DX1.b557785c-9ccc-42a7-bb54-7bb47638ddfc.svs',\n",
       " '/home/data/gdc/TCGA-78-7540-11A-01-TS1.92595ecb-3d54-496c-acef-6206f69fa2a5.svs',\n",
       " '/home/data/gdc/TCGA-55-7576-01Z-00-DX1.3a6142e9-c90a-4938-a1d1-061c2ac261f0.svs']"
      ]
     },
     "execution_count": 5,
     "metadata": {},
     "output_type": "execute_result"
    }
   ],
   "source": [
    "list(meta[meta['primary_site']=='Bronchus and lung'].apply(lambda x: os.path.join(data_dir, x.filename), axis=1))"
   ]
  },
  {
   "cell_type": "code",
   "execution_count": 6,
   "id": "6421495e-adde-4b55-9a1f-f95b473fb1a8",
   "metadata": {},
   "outputs": [
    {
     "data": {
      "text/html": [
       "<div>\n",
       "<style scoped>\n",
       "    .dataframe tbody tr th:only-of-type {\n",
       "        vertical-align: middle;\n",
       "    }\n",
       "\n",
       "    .dataframe tbody tr th {\n",
       "        vertical-align: top;\n",
       "    }\n",
       "\n",
       "    .dataframe thead th {\n",
       "        text-align: right;\n",
       "    }\n",
       "</style>\n",
       "<table border=\"1\" class=\"dataframe\">\n",
       "  <thead>\n",
       "    <tr style=\"text-align: right;\">\n",
       "      <th></th>\n",
       "      <th>id</th>\n",
       "      <th>filename</th>\n",
       "      <th>md5</th>\n",
       "      <th>size</th>\n",
       "      <th>state</th>\n",
       "      <th>primary_site</th>\n",
       "    </tr>\n",
       "  </thead>\n",
       "  <tbody>\n",
       "    <tr>\n",
       "      <th>0</th>\n",
       "      <td>e5512255-ca4c-42f1-9cc2-f1232ce71a8e</td>\n",
       "      <td>TCGA-AG-3881-01A-01-BS1.47980d31-833d-45a4-9d0...</td>\n",
       "      <td>3e0f83b52dd1166cc466e1745fe31023</td>\n",
       "      <td>101695437</td>\n",
       "      <td>released</td>\n",
       "      <td>Unknown</td>\n",
       "    </tr>\n",
       "    <tr>\n",
       "      <th>1</th>\n",
       "      <td>1416cb37-52a8-46c7-9b4c-8105ecdd9e36</td>\n",
       "      <td>TCGA-AH-6897-01A-01-BS1.38c96179-4291-4a73-8f6...</td>\n",
       "      <td>53fcd17d0a5db641c1ca8a8c842805c4</td>\n",
       "      <td>16505997</td>\n",
       "      <td>released</td>\n",
       "      <td>Rectosigmoid junction</td>\n",
       "    </tr>\n",
       "    <tr>\n",
       "      <th>2</th>\n",
       "      <td>85d39f72-c067-4c8c-a2d3-0a44c365433f</td>\n",
       "      <td>TCGA-AH-6897-01A-01-TS1.a2c0021f-c9fc-4113-810...</td>\n",
       "      <td>5a1d5386e1bb8c3608aff0a966fb4ae9</td>\n",
       "      <td>78862471</td>\n",
       "      <td>released</td>\n",
       "      <td>Rectosigmoid junction</td>\n",
       "    </tr>\n",
       "    <tr>\n",
       "      <th>3</th>\n",
       "      <td>6786f5d6-8486-400f-963a-ba0ef3b7eec6</td>\n",
       "      <td>TCGA-A7-A26J-01B-02-BS2.2BDFB544-F62A-402C-9D9...</td>\n",
       "      <td>6252608e94ec7db577b154f02869e68a</td>\n",
       "      <td>6488325</td>\n",
       "      <td>released</td>\n",
       "      <td>Breast</td>\n",
       "    </tr>\n",
       "    <tr>\n",
       "      <th>4</th>\n",
       "      <td>657d707a-3cae-462e-ae7b-73eae661324a</td>\n",
       "      <td>TCGA-BH-A42T-01A-01-TSA.2DE6520B-22F3-49A6-9C0...</td>\n",
       "      <td>acedaacdf156dad4a4cb2749f8a1f936</td>\n",
       "      <td>657740369</td>\n",
       "      <td>released</td>\n",
       "      <td>Breast</td>\n",
       "    </tr>\n",
       "    <tr>\n",
       "      <th>...</th>\n",
       "      <td>...</td>\n",
       "      <td>...</td>\n",
       "      <td>...</td>\n",
       "      <td>...</td>\n",
       "      <td>...</td>\n",
       "      <td>...</td>\n",
       "    </tr>\n",
       "    <tr>\n",
       "      <th>2370</th>\n",
       "      <td>d67cad8d-c8b9-41e4-b85b-9c969e912ba4</td>\n",
       "      <td>TCGA-X7-A8M1-01A-01-TS1.1576B86B-1EF3-4E60-91D...</td>\n",
       "      <td>4c813b1172665df776fb4e0fbef168f2</td>\n",
       "      <td>354678439</td>\n",
       "      <td>released</td>\n",
       "      <td>Thymus</td>\n",
       "    </tr>\n",
       "    <tr>\n",
       "      <th>2371</th>\n",
       "      <td>2132f416-9059-42df-99b1-058906a5c25e</td>\n",
       "      <td>TCGA-X7-A8M4-01A-01-TS1.D5D799D8-5526-4F03-B8A...</td>\n",
       "      <td>83de070cdca3ecbf138dba18c0c3058e</td>\n",
       "      <td>493964009</td>\n",
       "      <td>released</td>\n",
       "      <td>Heart, mediastinum, and pleura</td>\n",
       "    </tr>\n",
       "    <tr>\n",
       "      <th>2372</th>\n",
       "      <td>bf6969ee-bfa6-4b13-8e3b-8e37332f2cfd</td>\n",
       "      <td>TCGA-78-7540-11A-01-TS1.92595ecb-3d54-496c-ace...</td>\n",
       "      <td>fc8117ea1999b586ce925c126dcbfc45</td>\n",
       "      <td>78462875</td>\n",
       "      <td>released</td>\n",
       "      <td>Bronchus and lung</td>\n",
       "    </tr>\n",
       "    <tr>\n",
       "      <th>2373</th>\n",
       "      <td>a21ba7ca-1bbb-4b84-9b6e-1d0de4ee28bc</td>\n",
       "      <td>TCGA-55-7576-01Z-00-DX1.3a6142e9-c90a-4938-a1d...</td>\n",
       "      <td>ed7a2d23339f63327326d7d1fd631ed7</td>\n",
       "      <td>135691103</td>\n",
       "      <td>released</td>\n",
       "      <td>Bronchus and lung</td>\n",
       "    </tr>\n",
       "    <tr>\n",
       "      <th>2374</th>\n",
       "      <td>c329f35d-62a0-4095-b89a-a47dc24a4c4f</td>\n",
       "      <td>TCGA-XU-A930-01Z-00-DX1.8D586AAE-BB91-474B-8B9...</td>\n",
       "      <td>4a6591487f809314eb681fd98bcb63e6</td>\n",
       "      <td>1227050844</td>\n",
       "      <td>released</td>\n",
       "      <td>Thymus</td>\n",
       "    </tr>\n",
       "  </tbody>\n",
       "</table>\n",
       "<p>2375 rows × 6 columns</p>\n",
       "</div>"
      ],
      "text/plain": [
       "                                        id  \\\n",
       "0     e5512255-ca4c-42f1-9cc2-f1232ce71a8e   \n",
       "1     1416cb37-52a8-46c7-9b4c-8105ecdd9e36   \n",
       "2     85d39f72-c067-4c8c-a2d3-0a44c365433f   \n",
       "3     6786f5d6-8486-400f-963a-ba0ef3b7eec6   \n",
       "4     657d707a-3cae-462e-ae7b-73eae661324a   \n",
       "...                                    ...   \n",
       "2370  d67cad8d-c8b9-41e4-b85b-9c969e912ba4   \n",
       "2371  2132f416-9059-42df-99b1-058906a5c25e   \n",
       "2372  bf6969ee-bfa6-4b13-8e3b-8e37332f2cfd   \n",
       "2373  a21ba7ca-1bbb-4b84-9b6e-1d0de4ee28bc   \n",
       "2374  c329f35d-62a0-4095-b89a-a47dc24a4c4f   \n",
       "\n",
       "                                               filename  \\\n",
       "0     TCGA-AG-3881-01A-01-BS1.47980d31-833d-45a4-9d0...   \n",
       "1     TCGA-AH-6897-01A-01-BS1.38c96179-4291-4a73-8f6...   \n",
       "2     TCGA-AH-6897-01A-01-TS1.a2c0021f-c9fc-4113-810...   \n",
       "3     TCGA-A7-A26J-01B-02-BS2.2BDFB544-F62A-402C-9D9...   \n",
       "4     TCGA-BH-A42T-01A-01-TSA.2DE6520B-22F3-49A6-9C0...   \n",
       "...                                                 ...   \n",
       "2370  TCGA-X7-A8M1-01A-01-TS1.1576B86B-1EF3-4E60-91D...   \n",
       "2371  TCGA-X7-A8M4-01A-01-TS1.D5D799D8-5526-4F03-B8A...   \n",
       "2372  TCGA-78-7540-11A-01-TS1.92595ecb-3d54-496c-ace...   \n",
       "2373  TCGA-55-7576-01Z-00-DX1.3a6142e9-c90a-4938-a1d...   \n",
       "2374  TCGA-XU-A930-01Z-00-DX1.8D586AAE-BB91-474B-8B9...   \n",
       "\n",
       "                                   md5        size     state  \\\n",
       "0     3e0f83b52dd1166cc466e1745fe31023   101695437  released   \n",
       "1     53fcd17d0a5db641c1ca8a8c842805c4    16505997  released   \n",
       "2     5a1d5386e1bb8c3608aff0a966fb4ae9    78862471  released   \n",
       "3     6252608e94ec7db577b154f02869e68a     6488325  released   \n",
       "4     acedaacdf156dad4a4cb2749f8a1f936   657740369  released   \n",
       "...                                ...         ...       ...   \n",
       "2370  4c813b1172665df776fb4e0fbef168f2   354678439  released   \n",
       "2371  83de070cdca3ecbf138dba18c0c3058e   493964009  released   \n",
       "2372  fc8117ea1999b586ce925c126dcbfc45    78462875  released   \n",
       "2373  ed7a2d23339f63327326d7d1fd631ed7   135691103  released   \n",
       "2374  4a6591487f809314eb681fd98bcb63e6  1227050844  released   \n",
       "\n",
       "                        primary_site  \n",
       "0                            Unknown  \n",
       "1              Rectosigmoid junction  \n",
       "2              Rectosigmoid junction  \n",
       "3                             Breast  \n",
       "4                             Breast  \n",
       "...                              ...  \n",
       "2370                          Thymus  \n",
       "2371  Heart, mediastinum, and pleura  \n",
       "2372               Bronchus and lung  \n",
       "2373               Bronchus and lung  \n",
       "2374                          Thymus  \n",
       "\n",
       "[2375 rows x 6 columns]"
      ]
     },
     "execution_count": 6,
     "metadata": {},
     "output_type": "execute_result"
    }
   ],
   "source": [
    "meta"
   ]
  },
  {
   "cell_type": "code",
   "execution_count": null,
   "id": "d6648a38-3913-4005-af8b-ab09fdf4d6c2",
   "metadata": {},
   "outputs": [],
   "source": []
  }
 ],
 "metadata": {
  "kernelspec": {
   "display_name": "Python 3.9.13 ('vae': conda)",
   "language": "python",
   "name": "python3"
  },
  "language_info": {
   "codemirror_mode": {
    "name": "ipython",
    "version": 3
   },
   "file_extension": ".py",
   "mimetype": "text/x-python",
   "name": "python",
   "nbconvert_exporter": "python",
   "pygments_lexer": "ipython3",
   "version": "3.9.13"
  },
  "vscode": {
   "interpreter": {
    "hash": "752f39bc0ae04be1d9b771e624752a5e5e529b162d9827bd4f656d8b8669fe99"
   }
  }
 },
 "nbformat": 4,
 "nbformat_minor": 5
}
